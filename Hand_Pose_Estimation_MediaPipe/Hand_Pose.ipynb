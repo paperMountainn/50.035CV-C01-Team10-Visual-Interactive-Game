{
 "cells": [
  {
   "cell_type": "markdown",
   "metadata": {},
   "source": [
    "## Import Dependencies"
   ]
  },
  {
   "cell_type": "code",
   "execution_count": 1,
   "metadata": {},
   "outputs": [],
   "source": [
    "import mediapipe as mp\n",
    "import cv2\n",
    "import numpy as np\n",
    "import uuid\n",
    "import os"
   ]
  },
  {
   "cell_type": "markdown",
   "metadata": {},
   "source": [
    "## Drawing Hand Pose\n",
    "<img src=https://google.github.io/mediapipe/images/mobile/hand_landmarks.png>"
   ]
  },
  {
   "cell_type": "code",
   "execution_count": 2,
   "metadata": {},
   "outputs": [],
   "source": [
    "mp_drawing = mp.solutions.drawing_utils\n",
    "mp_hands = mp.solutions.hands"
   ]
  },
  {
   "cell_type": "markdown",
   "metadata": {},
   "source": [
    "## Calculating Angles Between Joints"
   ]
  },
  {
   "cell_type": "code",
   "execution_count": 3,
   "metadata": {},
   "outputs": [],
   "source": [
    "from matplotlib import pyplot as plt"
   ]
  },
  {
   "cell_type": "code",
   "execution_count": 4,
   "metadata": {},
   "outputs": [],
   "source": [
    "joint_list = [\n",
    "    [5,6,7],        # Index Finger\n",
    "    [9,10,11],      # Middle Finger\n",
    "    [13,14,15],     # Ring Finger\n",
    "    [17,18,19]      # Pinky Finger\n",
    "]"
   ]
  },
  {
   "cell_type": "code",
   "execution_count": 5,
   "metadata": {},
   "outputs": [],
   "source": [
    "def draw_finger_angle(image, results, joint_list):\n",
    "\n",
    "    # Loops through the different hands\n",
    "    for hand in results.multi_hand_landmarks:\n",
    "\n",
    "        # Loops through the sets of triplet joints\n",
    "        for joint in joint_list:\n",
    "            a = np.array([hand.landmark[joint[0]].x, hand.landmark[joint[0]].y, hand.landmark[joint[0]].z])    # Coordinates of 1st joint\n",
    "            b = np.array([hand.landmark[joint[1]].x, hand.landmark[joint[1]].y, hand.landmark[joint[1]].z])    # Coordinates of 2nd joint\n",
    "            c = np.array([hand.landmark[joint[2]].x, hand.landmark[joint[2]].y, hand.landmark[joint[2]].z])    # Coordinates of 3rd joint\n",
    "\n",
    "            vector_1 = b - a\n",
    "            vector_2 = b - c\n",
    "\n",
    "            \n",
    "            rad = np.arccos(\n",
    "                (np.dot(vector_1, vector_2)/\n",
    "                (np.sqrt(np.sum(np.square(vector_1)))*\n",
    "                np.sqrt(np.sum(np.square(vector_2))))))\n",
    "\n",
    "            \n",
    "            deg = np.abs(rad * 180.0 / np.pi)\n",
    "\n",
    "            if deg > 180:\n",
    "                deg = 360 - deg\n",
    "\n",
    "            cv2.putText(\n",
    "                image, \n",
    "                str(round(deg, 3)), \n",
    "                tuple(np.multiply(b[:2], [640,480]).astype(int)), \n",
    "                cv2.FONT_HERSHEY_SIMPLEX, \n",
    "                0.5, \n",
    "                (255,255,255), \n",
    "                2, \n",
    "                cv2.LINE_AA\n",
    "                )\n",
    "\n",
    "    return image         "
   ]
  },
  {
   "cell_type": "markdown",
   "metadata": {},
   "source": [
    "## Draw Drumstick (Using finger angles)"
   ]
  },
  {
   "cell_type": "code",
   "execution_count": 6,
   "metadata": {},
   "outputs": [],
   "source": [
    "drum_joint_list = [\n",
    "    [0,17,19],\n",
    "    [6,7,4]\n",
    "]"
   ]
  },
  {
   "cell_type": "code",
   "execution_count": 7,
   "metadata": {},
   "outputs": [],
   "source": [
    "def draw_drumstick(image, results, drum_joint_list):\n",
    "    '''\n",
    "    Output: POIs (2D-Array)\n",
    "\n",
    "    Returns a 2D-array for left and right hand. \n",
    "\n",
    "    Each element of 2D-array contains 2 coordinates (idx 0: base of drumstick, idx 1: tip of drumstick)\n",
    "    '''\n",
    "    \n",
    "    POIs = []\n",
    "\n",
    "    # Loops through the different hands\n",
    "    for hand in results.multi_hand_landmarks:\n",
    "        POI = []\n",
    "\n",
    "        # Loops through the sets of triplet joints\n",
    "        for joint in drum_joint_list:\n",
    "            a = np.array([hand.landmark[joint[0]].x, hand.landmark[joint[0]].y, hand.landmark[joint[0]].z])    # Coordinates of 1st joint\n",
    "            b = np.array([hand.landmark[joint[1]].x, hand.landmark[joint[1]].y, hand.landmark[joint[1]].z])    # Coordinates of 2nd joint\n",
    "            c = np.array([hand.landmark[joint[2]].x, hand.landmark[joint[2]].y, hand.landmark[joint[2]].z])    # Coordinates of 3rd joint\n",
    "\n",
    "            joint_sim = np.add(a,b)/2\n",
    "            joint_sim = np.add(joint_sim, c)/2\n",
    "            joint_sim = tuple(np.multiply(joint_sim[:2], [640,480]).astype(int))\n",
    "\n",
    "            POI.append(joint_sim)\n",
    "\n",
    "        POI[1] =    (int((POI[1][0]-POI[0][0])*2.5 + POI[0][0]),\n",
    "                    int((POI[1][1]-POI[0][1])*2.5 + POI[0][1]))\n",
    "            \n",
    "        POIs.append(POI)\n",
    "        \n",
    "\n",
    "    for poi in POIs:\n",
    "\n",
    "        # poi[1]: tip of drumstick (type: tuple)\n",
    "        cv2.circle(image, poi[1], 10, (255,255,255),5)\n",
    "\n",
    "        # drawing stick itself\n",
    "        cv2.line(image, poi[0], poi[1], (0,128,0), 9)\n",
    "\n",
    "    return POIs\n"
   ]
  },
  {
   "cell_type": "code",
   "execution_count": 8,
   "metadata": {},
   "outputs": [],
   "source": [
    "cap = cv2.VideoCapture(0)\n",
    "\n",
    "with mp_hands.Hands(min_detection_confidence=0.8, min_tracking_confidence=0.5) as hands:\n",
    "    while cap.isOpened():\n",
    "        ret, frame = cap.read()\n",
    "\n",
    "        # Change colour format from BGR to RGB\n",
    "        image = cv2.cvtColor(frame, cv2.COLOR_BGR2RGB)\n",
    "\n",
    "        # Flip image along y axis\n",
    "        image = cv2.flip(image, 1)\n",
    "\n",
    "        # Set flag to false\n",
    "        image.flags.writeable = False\n",
    "        \n",
    "        # Detections\n",
    "        results = hands.process(image)\n",
    "\n",
    "        # Set flag back to true\n",
    "        image.flags.writeable = True\n",
    "\n",
    "        # Change colour format from RGB to BGR\n",
    "        image = cv2.cvtColor(image, cv2.COLOR_RGB2BGR)\n",
    "\n",
    "        # print(results)\n",
    "        \n",
    "        # Rendering results\n",
    "        if results.multi_hand_landmarks:\n",
    "            for idx, hand in enumerate(results.multi_hand_landmarks):\n",
    "                mp_drawing.draw_landmarks(image, hand, mp_hands.HAND_CONNECTIONS)\n",
    "\n",
    "            # draw_finger_angle(image, results, joint_list)\n",
    "\n",
    "            # Draw drumsticks and get coordinates \n",
    "            POIs = draw_drumstick(image, results, drum_joint_list)\n",
    "\n",
    "\n",
    "        cv2.imshow('Hand Tracking', image)\n",
    "\n",
    "        if cv2.waitKey(10) & 0xFF == ord('q'):\n",
    "            break\n",
    "\n",
    "cap.release()\n",
    "cv2.destroyAllWindows()  "
   ]
  },
  {
   "cell_type": "code",
   "execution_count": 9,
   "metadata": {},
   "outputs": [],
   "source": [
    "results.multi_hand_landmarks"
   ]
  }
 ],
 "metadata": {
  "interpreter": {
   "hash": "d22ae1c124e37de917c126561a27c788d6dd62390fbbf984c1dcb6dec8f7002b"
  },
  "kernelspec": {
   "display_name": "Python 3.9.4 64-bit",
   "language": "python",
   "name": "python3"
  },
  "language_info": {
   "codemirror_mode": {
    "name": "ipython",
    "version": 3
   },
   "file_extension": ".py",
   "mimetype": "text/x-python",
   "name": "python",
   "nbconvert_exporter": "python",
   "pygments_lexer": "ipython3",
   "version": "3.9.4"
  },
  "orig_nbformat": 4
 },
 "nbformat": 4,
 "nbformat_minor": 2
}
