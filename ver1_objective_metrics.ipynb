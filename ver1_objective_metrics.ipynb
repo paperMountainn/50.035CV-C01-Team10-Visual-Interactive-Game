{
  "nbformat": 4,
  "nbformat_minor": 0,
  "metadata": {
    "colab": {
      "name": "objective metrics.ipynb",
      "provenance": [],
      "collapsed_sections": [],
      "toc_visible": true
    },
    "kernelspec": {
      "name": "python3",
      "display_name": "Python 3"
    },
    "language_info": {
      "name": "python"
    }
  },
  "cells": [
    {
      "cell_type": "markdown",
      "source": [
        "# trying objective metrics on other working code..."
      ],
      "metadata": {
        "id": "4KCRB3UGLhlB"
      }
    },
    {
      "cell_type": "markdown",
      "source": [
        "## things to do next by monday 1.30pm meeting\n",
        "\n",
        "```\n",
        "(share w Mat)\n",
        "-code for testing (countdown, timer python files)\n",
        "-google colab put in results of testing\n",
        "-using google metronome for BPM\n",
        "________________________\n",
        "New Measurement \n",
        "for False positive, False negative, within given time, frame, set the BPM \n",
        "(15s -> 100 BPM, 100/4 = 25 beats per 15s, any less is false negative, \n",
        "any more is false positive - can try count number of strokes \n",
        "if actually did move hand 25 times)\n",
        "\n",
        "Constant Time steps\n",
        "1st hit and next hit what is time difference \n",
        "(from output of timestamps take time difference between hits \n",
        "-> can visualise time stamp in some form of time chart map thing)\n",
        "When supposed to hit\n",
        "Divide BPM time frame\n",
        "Fixed threshold \n",
        "-> Tolerance can take \n",
        "2 successive beats (too quick) how define… -> false positive\n",
        "________________________\n",
        "\n",
        "for (1) hits per 15s\n",
        "can use the countdown.py\n",
        "input 15s countdown\n",
        "and hit alot, but apparently when follow a BPM, get more hit count\n",
        "\n",
        "for (2) 15 hits get false +/ -\n",
        "can use timer.py\n",
        "start timer and count 15 hits\n",
        "then stop timer\n",
        "then compare output and count lines\n",
        "```\n",
        "\n"
      ],
      "metadata": {
        "id": "W1GZbCFIHttq"
      }
    },
    {
      "cell_type": "code",
      "source": [
        "# heyos mat think the optimum BPM for max number of hits\n",
        "# can try out different BPM for (1) \n",
        "# and use the best BPM for (2) "
      ],
      "metadata": {
        "id": "uH5jm4kQPQx1"
      },
      "execution_count": null,
      "outputs": []
    },
    {
      "cell_type": "markdown",
      "source": [
        "## (1) Hits per minute (cout 1 min)\n",
        " \n",
        "```\n",
        "Try with certain BPM 100,120, 150, 160 (matching types of genres of music)\n",
        "Follow metronome of BPM, hit according to metronome for 1 minute\n",
        "For start and stop timer of 1 minute (time stamps) -> use python script split terminal, or detailed timer split window click \n",
        "Same thing find time stamps within time frame \n",
        "Count number of play sounds (number of hits within 1 minute time frame)\n",
        "```\n",
        "\n",
        "\n",
        "\n",
        "## (2) For 100 hits (count 100 hits)\n",
        "\n",
        "```\n",
        "(Variable timer here, could be more than a minute)\n",
        "Start time ends timer, Count 100 hits in between (person ownself make sure)\n",
        "Have code print out when play sound function is called, print out timestamp\n",
        "The logging of code might have play sound called before and after (start & end timer), remove these rest\n",
        "Then use python script/ online tool to count number of lines -> if 95\n",
        "False positive - play sound when never hit (hard to tell) -> maybe cause poor latency -> more than 100 counts that did\n",
        "False negative - never play sound when hit (less than 100 hits, when actually did 100 hits)\n",
        "```\n",
        "\n"
      ],
      "metadata": {
        "id": "JtULcDxmImDD"
      }
    },
    {
      "cell_type": "markdown",
      "source": [
        "### (1) hits per minute"
      ],
      "metadata": {
        "id": "gjXXdJ5VIvo5"
      }
    },
    {
      "cell_type": "code",
      "execution_count": null,
      "metadata": {
        "id": "mdiuZvHYIiXS"
      },
      "outputs": [],
      "source": [
        "# should record self hitting, a video, so dont have to do multiple times\n",
        "# but code able to detect w video? need to modify code, wont be using from camera...\n",
        "# >>>>>>>>\n",
        "# need to make sure that accurately hitting the bounding box drum location for each hit for drum to detect\n",
        "# for ground truth generate hit annotation with time stamps (need generate time stamps live) -> need pretrained model...\n",
        "# when running video through the code that play sound live also...\n",
        "\n",
        "# doing live method \n",
        "# vs record video method\n"
      ]
    },
    {
      "cell_type": "code",
      "source": [
        "# TODO: edit code to print out time stamps w coordinates/playsound \n",
        "\n",
        "# then TODO manually\n",
        "# set BPM \n",
        "# start & stop at 1 minute only (15s first)\n",
        "# just see if able to print out  \n",
        "# number of print statements correspond to quality of sound? \n"
      ],
      "metadata": {
        "id": "cXC3u5V_LPfK"
      },
      "execution_count": null,
      "outputs": []
    },
    {
      "cell_type": "code",
      "source": [
        "# print time\n",
        "\n",
        "from datetime import datetime\n",
        "dateTimeObj = datetime.now()\n",
        "print(dateTimeObj)\n",
        "\n",
        "timestampStr = dateTimeObj.strftime(\"%d-%b-%Y (%H:%M:%S.%f)\")\n",
        "print(timestampStr)"
      ],
      "metadata": {
        "colab": {
          "base_uri": "https://localhost:8080/"
        },
        "id": "0-psgfg8IvVG",
        "outputId": "af5002bb-3602-4824-cd26-c24bf61ed086"
      },
      "execution_count": null,
      "outputs": [
        {
          "output_type": "stream",
          "name": "stdout",
          "text": [
            "2022-04-15 22:40:55.143008\n",
            "15-Apr-2022 (22:40:55.143008)\n"
          ]
        }
      ]
    },
    {
      "cell_type": "code",
      "source": [
        "# import the time module\n",
        "import time\n",
        "from datetime import datetime\n",
        "\n",
        "# define the countdown func.\n",
        "def countdown(t):\n",
        "\t\n",
        "\twhile t:\n",
        "\t\tmins, secs = divmod(t, 60)\n",
        "\t\ttimer = '{:02d}:{:02d}'.format(mins, secs)\n",
        "\t\tprint(timer, end=\"\\r\")\n",
        "\t\ttime.sleep(1)\n",
        "\t\tt -= 1\n",
        "\t\n",
        "\tprint(f'end {datetime.now()}')\n",
        "\n",
        "\n",
        "# input time in seconds\n",
        "t = input(\"Enter the time in seconds: \")\n",
        "print(f'start {datetime.now()}')\n",
        "\n",
        "# function call\n",
        "countdown(int(t))\n"
      ],
      "metadata": {
        "colab": {
          "base_uri": "https://localhost:8080/"
        },
        "id": "Pp_8-oLgeg9A",
        "outputId": "69ef4d9e-a493-4add-c5c5-06ef1c536ab5"
      },
      "execution_count": null,
      "outputs": [
        {
          "output_type": "stream",
          "name": "stdout",
          "text": [
            "Enter the time in seconds: 4\n",
            "start 2022-04-15 23:13:00.150865\n",
            "end 2022-04-15 23:13:04.158502\n"
          ]
        }
      ]
    },
    {
      "cell_type": "code",
      "source": [
        "# Python program showing\n",
        "# a use of input()\n",
        "\n",
        "val = input(\"Enter your value: \")\n",
        "print(val)\n"
      ],
      "metadata": {
        "colab": {
          "base_uri": "https://localhost:8080/"
        },
        "id": "wNJjODFlZ47F",
        "outputId": "34dea107-5f6a-4ded-d5bb-da88e3dadba1"
      },
      "execution_count": null,
      "outputs": [
        {
          "output_type": "stream",
          "name": "stdout",
          "text": [
            "Enter your value: 2\n",
            "2\n"
          ]
        }
      ]
    },
    {
      "cell_type": "code",
      "source": [
        "\"\"\"\n",
        "BPM 100 (16 lines -> 16 hits, less than actual number of hits)\n",
        "\n",
        "start 2022-04-16 07:14:01.079908\n",
        "end 2022-04-16 07:14:16.129617\n",
        "\n",
        "2022-04-16 07:14:02.178575 snare\n",
        "2022-04-16 07:14:03.328636 snare\n",
        "2022-04-16 07:14:04.408400 snare\n",
        "2022-04-16 07:14:05.046981 snare\n",
        "2022-04-16 07:14:05.708749 snare\n",
        "2022-04-16 07:14:06.695563 snare\n",
        "2022-04-16 07:14:07.809025 snare\n",
        "2022-04-16 07:14:08.437112 snare\n",
        "2022-04-16 07:14:09.957920 snare\n",
        "2022-04-16 07:14:10.619890 snare\n",
        "2022-04-16 07:14:11.571689 snare\n",
        "2022-04-16 07:14:12.210288 snare\n",
        "2022-04-16 07:14:13.162158 snare\n",
        "2022-04-16 07:14:14.183834 snare\n",
        "2022-04-16 07:14:15.182281 snare\n",
        "2022-04-16 07:14:15.797815 snare\n",
        "\"\"\""
      ],
      "metadata": {
        "colab": {
          "base_uri": "https://localhost:8080/",
          "height": 69
        },
        "id": "Lw9VyFx5aTMe",
        "outputId": "832c695e-74df-4b9f-db02-d67c2ee855b6"
      },
      "execution_count": null,
      "outputs": [
        {
          "output_type": "execute_result",
          "data": {
            "text/plain": [
              "'\\nBPM 100 (16 lines -> 16 hits, less than actual number of hits)\\n\\nstart 2022-04-16 07:14:01.079908\\nend 2022-04-16 07:14:16.129617\\n\\n2022-04-16 07:14:02.178575 snare\\n2022-04-16 07:14:03.328636 snare\\n2022-04-16 07:14:04.408400 snare\\n2022-04-16 07:14:05.046981 snare\\n2022-04-16 07:14:05.708749 snare\\n2022-04-16 07:14:06.695563 snare\\n2022-04-16 07:14:07.809025 snare\\n2022-04-16 07:14:08.437112 snare\\n2022-04-16 07:14:09.957920 snare\\n2022-04-16 07:14:10.619890 snare\\n2022-04-16 07:14:11.571689 snare\\n2022-04-16 07:14:12.210288 snare\\n2022-04-16 07:14:13.162158 snare\\n2022-04-16 07:14:14.183834 snare\\n2022-04-16 07:14:15.182281 snare\\n2022-04-16 07:14:15.797815 snare\\n'"
            ],
            "application/vnd.google.colaboratory.intrinsic+json": {
              "type": "string"
            }
          },
          "metadata": {},
          "execution_count": 30
        }
      ]
    },
    {
      "cell_type": "code",
      "source": [
        "\"\"\"\n",
        "BPM 100 (18 lines -> 18 hits, less than actual number of hits)\n",
        "\n",
        "start 2022-04-16 07:17:05.880938\n",
        "end 2022-04-16 07:17:20.936941\n",
        "\n",
        "2022-04-16 07:17:07.064093 snare\n",
        "2022-04-16 07:17:08.190109 snare\n",
        "2022-04-16 07:17:08.817127 snare\n",
        "2022-04-16 07:17:09.908362 snare\n",
        "2022-04-16 07:17:10.535080 snare\n",
        "2022-04-16 07:17:11.197189 snare\n",
        "2022-04-16 07:17:12.288502 snare\n",
        "2022-04-16 07:17:12.950368 snare\n",
        "2022-04-16 07:17:13.612060 snare\n",
        "2022-04-16 07:17:14.262185 snare\n",
        "2022-04-16 07:17:14.900846 snare\n",
        "2022-04-16 07:17:15.852666 snare\n",
        "2022-04-16 07:17:17.036864 snare\n",
        "2022-04-16 07:17:17.698065 snare\n",
        "2022-04-16 07:17:18.360602 snare\n",
        "2022-04-16 07:17:19.022295 snare\n",
        "2022-04-16 07:17:19.684105 snare\n",
        "2022-04-16 07:17:20.566314 snare\n",
        "\"\"\""
      ],
      "metadata": {
        "id": "sq-qOOGIhNHZ"
      },
      "execution_count": null,
      "outputs": []
    },
    {
      "cell_type": "code",
      "source": [
        "\"\"\"\n",
        "BPM 100 (19 lines -> 19 hits, less than actual number of hits)\n",
        "\n",
        "start 2022-04-16 07:20:04.204941\n",
        "end 2022-04-16 07:20:19.264459\n",
        "\n",
        "2022-04-16 07:20:05.331474 snare\n",
        "2022-04-16 07:20:06.363595 snare\n",
        "2022-04-16 07:20:06.979919 snare\n",
        "2022-04-16 07:20:07.618482 snare\n",
        "2022-04-16 07:20:08.640177 snare\n",
        "2022-04-16 07:20:09.301890 snare\n",
        "2022-04-16 07:20:09.963838 snare\n",
        "2022-04-16 07:20:10.625577 snare\n",
        "2022-04-16 07:20:11.670301 snare\n",
        "2022-04-16 07:20:12.297381 snare\n",
        "2022-04-16 07:20:12.970812 snare\n",
        "2022-04-16 07:20:14.050305 snare\n",
        "2022-04-16 07:20:14.712205 snare\n",
        "2022-04-16 07:20:15.373872 snare\n",
        "2022-04-16 07:20:16.291065 snare\n",
        "2022-04-16 07:20:16.952889 snare\n",
        "2022-04-16 07:20:17.614673 snare\n",
        "2022-04-16 07:20:18.264669 snare\n",
        "2022-04-16 07:20:18.903341 snare\n",
        "\n",
        "\"\"\""
      ],
      "metadata": {
        "id": "8i49Wv4BhVdB"
      },
      "execution_count": null,
      "outputs": []
    },
    {
      "cell_type": "code",
      "source": [
        "\"\"\"\n",
        "BPM 100 (19 lines -> 19 hits, less than actual number of hits)\n",
        "\n",
        "start 2022-04-16 07:21:29.461691\n",
        "end 2022-04-16 07:21:44.517735\n",
        "\n",
        "2022-04-16 07:21:31.106184 snare\n",
        "2022-04-16 07:21:31.768028 snare\n",
        "2022-04-16 07:21:32.417825 snare\n",
        "2022-04-16 07:21:33.056564 snare\n",
        "2022-04-16 07:21:34.043206 snare\n",
        "2022-04-16 07:21:34.705113 snare\n",
        "2022-04-16 07:21:35.366910 snare\n",
        "2022-04-16 07:21:36.028756 snare\n",
        "2022-04-16 07:21:37.015281 snare\n",
        "2022-04-16 07:21:37.630717 snare\n",
        "2022-04-16 07:21:38.269271 snare\n",
        "2022-04-16 07:21:38.931016 snare\n",
        "2022-04-16 07:21:39.592944 snare\n",
        "2022-04-16 07:21:40.254082 snare\n",
        "2022-04-16 07:21:41.392280 snare\n",
        "2022-04-16 07:21:42.030871 snare\n",
        "2022-04-16 07:21:42.646296 snare\n",
        "2022-04-16 07:21:43.284803 snare\n",
        "2022-04-16 07:21:44.434024 snare\n",
        "\n",
        "\"\"\""
      ],
      "metadata": {
        "id": "t6wra1pnh8gh"
      },
      "execution_count": null,
      "outputs": []
    },
    {
      "cell_type": "code",
      "source": [
        "\"\"\"\n",
        "BPM 100 (19 lines -> 19 hits, less than actual number of hits)\n",
        "\n",
        "start 2022-04-16 07:22:49.937473\n",
        "end 2022-04-16 07:23:04.998945\n",
        "\n",
        "2022-04-16 07:22:51.188832 snare\n",
        "2022-04-16 07:22:52.349613 snare\n",
        "2022-04-16 07:22:53.498976 snare\n",
        "2022-04-16 07:22:54.137631 snare\n",
        "2022-04-16 07:22:54.787662 snare\n",
        "2022-04-16 07:22:55.426339 snare\n",
        "2022-04-16 07:22:56.505957 snare\n",
        "2022-04-16 07:22:57.167757 snare\n",
        "2022-04-16 07:22:58.224204 snare\n",
        "2022-04-16 07:22:58.955632 snare\n",
        "2022-04-16 07:22:59.617519 snare\n",
        "2022-04-16 07:23:00.731939 snare\n",
        "2022-04-16 07:23:01.823186 snare\n",
        "2022-04-16 07:23:02.508243 snare\n",
        "2022-04-16 07:23:03.146874 snare\n",
        "2022-04-16 07:23:03.808672 snare\n",
        "2022-04-16 07:23:04.470444 snare\n",
        "\"\"\""
      ],
      "metadata": {
        "id": "bK6KYHUrihyq"
      },
      "execution_count": null,
      "outputs": []
    },
    {
      "cell_type": "code",
      "source": [
        "\"\"\"\n",
        "BPM 150 ( 20 lines -> 20 hits, less than actual number of hits)\n",
        "\n",
        "start 2022-04-16 07:25:20.035816\n",
        "end 2022-04-16 07:25:35.091073\n",
        "\n",
        "2022-04-16 07:25:20.521267 snare\n",
        "2022-04-16 07:25:21.380461 snare\n",
        "2022-04-16 07:25:22.100167 snare\n",
        "2022-04-16 07:25:22.866412 snare\n",
        "2022-04-16 07:25:23.655912 snare\n",
        "2022-04-16 07:25:24.515119 snare\n",
        "2022-04-16 07:25:25.304568 snare\n",
        "2022-04-16 07:25:26.093974 snare\n",
        "2022-04-16 07:25:26.860188 snare\n",
        "2022-04-16 07:25:27.684534 snare\n",
        "2022-04-16 07:25:28.439150 snare\n",
        "2022-04-16 07:25:29.228647 snare\n",
        "2022-04-16 07:25:30.029709 snare\n",
        "2022-04-16 07:25:30.854052 snare\n",
        "2022-04-16 07:25:31.643518 snare\n",
        "2022-04-16 07:25:32.456145 snare\n",
        "2022-04-16 07:25:33.222482 snare\n",
        "2022-04-16 07:25:34.011912 snare\n",
        "2022-04-16 07:25:34.836162 snare\n",
        "2022-04-16 07:25:35.602464 snare\n",
        "\n",
        "\"\"\""
      ],
      "metadata": {
        "id": "GZ39-4ghimmu"
      },
      "execution_count": null,
      "outputs": []
    },
    {
      "cell_type": "code",
      "source": [
        "\"\"\"\n",
        "BPM 160 ( 22 lines -> 22 hits, less than actual number of hits)\n",
        "\n",
        "start 2022-04-16 07:36:53.271132\n",
        "end 2022-04-16 07:37:08.331309\n",
        "\n",
        "2022-04-16 07:36:53.757935 snare\n",
        "2022-04-16 07:36:54.419631 snare\n",
        "2022-04-16 07:36:55.069778 snare\n",
        "2022-04-16 07:36:55.766419 snare\n",
        "2022-04-16 07:36:56.428237 snare\n",
        "2022-04-16 07:36:57.090021 snare\n",
        "2022-04-16 07:36:57.739950 snare\n",
        "2022-04-16 07:36:58.796433 snare\n",
        "2022-04-16 07:36:59.434102 snare\n",
        "2022-04-16 07:37:00.085191 snare\n",
        "2022-04-16 07:37:00.723807 snare\n",
        "2022-04-16 07:37:01.385710 snare\n",
        "2022-04-16 07:37:02.035619 snare\n",
        "2022-04-16 07:37:02.662671 snare\n",
        "2022-04-16 07:37:03.394129 snare\n",
        "2022-04-16 07:37:04.055934 snare\n",
        "2022-04-16 07:37:04.717800 snare\n",
        "2022-04-16 07:37:05.367751 snare\n",
        "2022-04-16 07:37:06.064286 snare\n",
        "2022-04-16 07:37:06.726109 snare\n",
        "2022-04-16 07:37:07.387903 snare\n",
        "2022-04-16 07:37:08.072766 snare\n",
        "\n",
        "\"\"\""
      ],
      "metadata": {
        "id": "ArcUlk83l3pK"
      },
      "execution_count": null,
      "outputs": []
    },
    {
      "cell_type": "code",
      "source": [
        "\"\"\"\n",
        "MAX HIT PER MINUTE (try 15 seconds first)\n",
        "BPM 150 \n",
        "\n",
        "or not follow BPM just hit\n",
        "\"\"\""
      ],
      "metadata": {
        "id": "sOqSuG_oipcZ"
      },
      "execution_count": null,
      "outputs": []
    },
    {
      "cell_type": "code",
      "source": [
        "\"\"\"\n",
        "(11 hits IN 15s)\n",
        "pris max speed from q a distance, could be nearer to cam\n",
        "start 2022-04-16 07:27:08.250029\n",
        "end 2022-04-16 07:27:23.315750\n",
        "\n",
        "2022-04-16 07:27:10.447756 snare\n",
        "2022-04-16 07:27:11.237304 snare\n",
        "2022-04-16 07:27:11.899168 snare\n",
        "2022-04-16 07:27:12.653792 snare\n",
        "2022-04-16 07:27:14.012029 snare\n",
        "2022-04-16 07:27:15.393597 snare\n",
        "2022-04-16 07:27:17.901343 snare\n",
        "2022-04-16 07:27:19.584770 snare\n",
        "2022-04-16 07:27:20.838625 snare\n",
        "2022-04-16 07:27:22.127304 snare\n",
        "2022-04-16 07:27:23.613321 snare\n",
        "\"\"\""
      ],
      "metadata": {
        "id": "M5YEoqePj6w9"
      },
      "execution_count": null,
      "outputs": []
    },
    {
      "cell_type": "code",
      "source": [
        "\"\"\"\n",
        "(19 hits IN 15s) >>>>>>>>> MAX OF 19 HITS (hit fast, dont worry bout try to number of hits)\n",
        "not max speed shake, but hit fast\n",
        "\n",
        "start 2022-04-16 07:27:37.817892\n",
        "end 2022-04-16 07:27:52.861348\n",
        "\n",
        "2022-04-16 07:27:39.342329 snare\n",
        "2022-04-16 07:27:40.108458 snare\n",
        "2022-04-16 07:27:40.828142 snare\n",
        "2022-04-16 07:27:41.629245 snare\n",
        "2022-04-16 07:27:42.291201 snare\n",
        "2022-04-16 07:27:43.208191 snare\n",
        "2022-04-16 07:27:43.904828 snare\n",
        "2022-04-16 07:27:44.578348 snare\n",
        "2022-04-16 07:27:45.483486 snare\n",
        "2022-04-16 07:27:46.354451 snare\n",
        "2022-04-16 07:27:47.201957 snare\n",
        "2022-04-16 07:27:47.829031 snare\n",
        "2022-04-16 07:27:48.688007 snare\n",
        "2022-04-16 07:27:49.477486 snare\n",
        "2022-04-16 07:27:50.174144 snare\n",
        "2022-04-16 07:27:50.835914 snare\n",
        "2022-04-16 07:27:51.497697 snare\n",
        "2022-04-16 07:27:52.159578 snare\n",
        "2022-04-16 07:27:52.786317 snare\n",
        "\"\"\""
      ],
      "metadata": {
        "id": "cv4_aqGnj_73"
      },
      "execution_count": null,
      "outputs": []
    },
    {
      "cell_type": "code",
      "source": [
        "\"\"\"\n",
        "(18 hits IN 15s)\n",
        "tried to max sound number of hits than just fast shake\n",
        "\n",
        "start 2022-04-16 07:28:00.601905\n",
        "end 2022-04-16 07:28:15.643582\n",
        "\n",
        "2022-04-16 07:28:02.302707 snare\n",
        "2022-04-16 07:28:02.940987 snare\n",
        "2022-04-16 07:28:04.334246 snare\n",
        "2022-04-16 07:28:05.355801 snare\n",
        "2022-04-16 07:28:06.574934 snare\n",
        "2022-04-16 07:28:07.236694 snare\n",
        "2022-04-16 07:28:07.863581 snare\n",
        "2022-04-16 07:28:08.525489 snare\n",
        "2022-04-16 07:28:09.221879 snare\n",
        "2022-04-16 07:28:09.941789 snare\n",
        "2022-04-16 07:28:10.673228 snare\n",
        "2022-04-16 07:28:11.335028 snare\n",
        "2022-04-16 07:28:12.054799 snare\n",
        "2022-04-16 07:28:12.739720 snare\n",
        "2022-04-16 07:28:13.447934 snare\n",
        "2022-04-16 07:28:14.202518 snare\n",
        "2022-04-16 07:28:14.864498 snare\n",
        "2022-04-16 07:28:15.584189 snare\n",
        "\"\"\""
      ],
      "metadata": {
        "id": "tuJSKo22kUpD"
      },
      "execution_count": null,
      "outputs": []
    },
    {
      "cell_type": "code",
      "source": [
        "\"\"\"\n",
        "(18 hits IN 15s)\n",
        "tried to max sound number of hits than just fast shake\n",
        "\n",
        "start 2022-04-16 07:28:50.522426\n",
        "end 2022-04-16 07:29:05.576986\n",
        "\n",
        "2022-04-16 07:28:52.104711 snare\n",
        "2022-04-16 07:28:52.778000 snare\n",
        "2022-04-16 07:28:53.997045 snare\n",
        "2022-04-16 07:28:54.623989 snare\n",
        "2022-04-16 07:28:55.378588 snare\n",
        "2022-04-16 07:28:56.005705 snare\n",
        "2022-04-16 07:28:57.166541 snare\n",
        "2022-04-16 07:28:57.793444 snare\n",
        "2022-04-16 07:28:58.513285 snare\n",
        "2022-04-16 07:28:59.244692 snare\n",
        "2022-04-16 07:28:59.929657 snare\n",
        "2022-04-16 07:29:00.695940 snare\n",
        "2022-04-16 07:29:01.357641 snare\n",
        "2022-04-16 07:29:01.984687 snare\n",
        "2022-04-16 07:29:02.843861 snare\n",
        "2022-04-16 07:29:03.598361 snare\n",
        "2022-04-16 07:29:04.283399 snare\n",
        "2022-04-16 07:29:04.979942 snare\n",
        "\n",
        "\"\"\""
      ],
      "metadata": {
        "id": "Pv2xo-lUkalv"
      },
      "execution_count": null,
      "outputs": []
    },
    {
      "cell_type": "code",
      "source": [
        "# comments\n",
        "\n",
        "# need to hit drum at constant/ fixed distance, not sometimes close, sometimes far...\n",
        "# affcted by lighting \n",
        "# how light hits the object\n",
        "# how far away object from camera, uncomfortable to play in a certain way, too close to camera...\n",
        "# cannot hit 2 objects at the same time, only 1 after the other slighlty consecutively\n"
      ],
      "metadata": {
        "id": "TfjbltcKIvXS"
      },
      "execution_count": null,
      "outputs": []
    },
    {
      "cell_type": "markdown",
      "source": [
        "### (2) for 100 hits"
      ],
      "metadata": {
        "id": "Gmw13YHaIxwB"
      }
    },
    {
      "cell_type": "code",
      "source": [
        "# TODO: create simple python script for timer start and stop split screen window\n",
        "# python input to stop, python input to start\n",
        "# get start and cut off timings for timeframe\n",
        "\n",
        "# TODO: edit code to save time stamps print out, save into a file \n",
        "\n",
        "\n",
        "# then TODO manually:\n",
        "# start timer in split window\n",
        "# count 15 hits\n",
        "# stop timer \n",
        "# check saved time stamp annotations of playsound function called\n",
        "# count number of time function is called, shouls be 100% 15 counts\n",
        "# more or less -> false + (more than 15 counts), false - (less than 15 counts)\n",
        "# calculate precision recall..."
      ],
      "metadata": {
        "id": "3QpQZU8UI1_x"
      },
      "execution_count": null,
      "outputs": []
    },
    {
      "cell_type": "code",
      "source": [
        "# finding out if more or less than 15 @BPM 160\n",
        "\n",
        "\"\"\"\n",
        "\n",
        "(3 / 15 hits -> false negative)\n",
        "2022-04-16 07:46:36.256735\n",
        "2022-04-16 07:46:42.239927\n",
        ">>\n",
        "2022-04-16 07:45:36.891393 snare\n",
        "2022-04-16 07:45:41.608133 snare\n",
        "2022-04-16 07:45:42.281706 snare\n",
        "    \n",
        "    \n",
        "(7 / 15 hits -> false negative)\n",
        "2022-04-16 07:47:06.493002\n",
        "2022-04-16 07:47:12.154785\n",
        ">>\n",
        "022-04-16 07:47:07.310996 snare\n",
        "2022-04-16 07:47:07.937913 snare\n",
        "2022-04-16 07:47:08.634529 snare\n",
        "2022-04-16 07:47:09.296303 snare\n",
        "2022-04-16 07:47:10.027758 snare\n",
        "2022-04-16 07:47:10.747781 snare\n",
        "2022-04-16 07:47:11.444210 snare\n",
        "\n",
        "(7 / 15 hits -> false negative)\n",
        "2022-04-16 07:47:41.731016\n",
        "2022-04-16 07:47:47.683530\n",
        ">>\n",
        "2022-04-16 07:47:42.612907 snare\n",
        "2022-04-16 07:47:43.251480 snare\n",
        "2022-04-16 07:47:43.982897 snare\n",
        "2022-04-16 07:47:44.667780 snare\n",
        "2022-04-16 07:47:45.433969 snare\n",
        "2022-04-16 07:47:46.153904 snare\n",
        "2022-04-16 07:47:46.920109 snare\n",
        "2022-04-16 07:47:47.639877 snare\n",
        "\n",
        "\"\"\""
      ],
      "metadata": {
        "id": "9yK5uvuJI2B_"
      },
      "execution_count": null,
      "outputs": []
    },
    {
      "cell_type": "code",
      "source": [
        "# finding out if more or less than 15 @BPM 130"
      ],
      "metadata": {
        "id": "IWdPNNdImlQj"
      },
      "execution_count": null,
      "outputs": []
    },
    {
      "cell_type": "code",
      "source": [
        "# finding out if more or less than 15 @BPM 100"
      ],
      "metadata": {
        "id": "2DcW8GVsI2E3"
      },
      "execution_count": null,
      "outputs": []
    },
    {
      "cell_type": "markdown",
      "source": [
        "scratchpaper"
      ],
      "metadata": {
        "id": "xSZx2Lo94PHh"
      }
    },
    {
      "cell_type": "code",
      "source": [
        "# add timestamps\n",
        "# 07:36:53.271132 \n",
        "\n",
        "# 0:00:01.004012\n",
        "\n",
        "# genrate pd df of timestamp, at each second (start timestamp + 1 unit) -> 15 rows\n",
        "\n",
        "# plot to graph \n",
        "\n",
        "import datetime as dt\n",
        "t1 = dt.datetime.strptime('07:36:53.271132', '%H:%M:%S.%f') #start \n",
        "t2 = dt.datetime.strptime('07:37:08.331309', '%H:%M:%S.%f') #end\n",
        "time_zero = dt.datetime.strptime('00:00:00.0', '%H:%M:%S.%f')\n",
        "time_diff =(t1 - time_zero + t2).time()\n",
        "print(time_diff)\n",
        "# print(type(time_diff))\n",
        "# print(time_diff/15)\n",
        "\n",
        "\n",
        "# x = (2022,4,16,15,14,1,602441)\n",
        "# print(type(x))\n",
        "# datetime(x)\n",
        "\n",
        "\n"
      ],
      "metadata": {
        "colab": {
          "base_uri": "https://localhost:8080/"
        },
        "id": "cIHIby4V4Q76",
        "outputId": "dd797f9d-5685-40b7-be5c-9b8199743172"
      },
      "execution_count": null,
      "outputs": [
        {
          "output_type": "stream",
          "name": "stdout",
          "text": [
            "15:14:01.602441\n"
          ]
        }
      ]
    },
    {
      "cell_type": "code",
      "source": [
        "datetime.now().strftime('%M:%S.%f')[:-4]"
      ],
      "metadata": {
        "colab": {
          "base_uri": "https://localhost:8080/",
          "height": 35
        },
        "id": "K4iY7q6oWsvj",
        "outputId": "5aed4b9f-24b5-4240-9c94-c6f203386226"
      },
      "execution_count": null,
      "outputs": [
        {
          "output_type": "execute_result",
          "data": {
            "text/plain": [
              "'30:13.81'"
            ],
            "application/vnd.google.colaboratory.intrinsic+json": {
              "type": "string"
            }
          },
          "metadata": {},
          "execution_count": 308
        }
      ]
    },
    {
      "cell_type": "markdown",
      "source": [
        "### new measurement, creating expected time stamps\n",
        "mapping time stamps w matplotlib\n"
      ],
      "metadata": {
        "id": "yJLH7w22tSzV"
      }
    },
    {
      "cell_type": "code",
      "source": [
        "\"\"\" example data:\n",
        "BPM 160 ( 22 lines -> 22 hits, less than actual number of hits)\n",
        "\n",
        "start 2022-04-16 07:36:53.271132\n",
        "end 2022-04-16 07:37:08.331309\n",
        "\n",
        "2022-04-16 07:36:53.757935 snare\n",
        "2022-04-16 07:36:54.419631 snare\n",
        "2022-04-16 07:36:55.069778 snare\n",
        "2022-04-16 07:36:55.766419 snare\n",
        "2022-04-16 07:36:56.428237 snare\n",
        "2022-04-16 07:36:57.090021 snare\n",
        "2022-04-16 07:36:57.739950 snare\n",
        "2022-04-16 07:36:58.796433 snare\n",
        "2022-04-16 07:36:59.434102 snare\n",
        "2022-04-16 07:37:00.085191 snare\n",
        "2022-04-16 07:37:00.723807 snare\n",
        "2022-04-16 07:37:01.385710 snare\n",
        "2022-04-16 07:37:02.035619 snare\n",
        "2022-04-16 07:37:02.662671 snare\n",
        "2022-04-16 07:37:03.394129 snare\n",
        "2022-04-16 07:37:04.055934 snare\n",
        "2022-04-16 07:37:04.717800 snare\n",
        "2022-04-16 07:37:05.367751 snare\n",
        "2022-04-16 07:37:06.064286 snare\n",
        "2022-04-16 07:37:06.726109 snare\n",
        "2022-04-16 07:37:07.387903 snare\n",
        "2022-04-16 07:37:08.072766 snare\n",
        "\n",
        "\"\"\""
      ],
      "metadata": {
        "colab": {
          "base_uri": "https://localhost:8080/",
          "height": 156
        },
        "id": "hwuVu1fDtYSu",
        "outputId": "51934baf-677d-44ed-8a53-9b0ce39bfb62"
      },
      "execution_count": null,
      "outputs": [
        {
          "output_type": "execute_result",
          "data": {
            "text/plain": [
              "' example data:\\nBPM 160 ( 22 lines -> 22 hits, less than actual number of hits)\\n\\nstart 2022-04-16 07:36:53.271132\\nend 2022-04-16 07:37:08.331309\\n\\n2022-04-16 07:36:53.757935 snare\\n2022-04-16 07:36:54.419631 snare\\n2022-04-16 07:36:55.069778 snare\\n2022-04-16 07:36:55.766419 snare\\n2022-04-16 07:36:56.428237 snare\\n2022-04-16 07:36:57.090021 snare\\n2022-04-16 07:36:57.739950 snare\\n2022-04-16 07:36:58.796433 snare\\n2022-04-16 07:36:59.434102 snare\\n2022-04-16 07:37:00.085191 snare\\n2022-04-16 07:37:00.723807 snare\\n2022-04-16 07:37:01.385710 snare\\n2022-04-16 07:37:02.035619 snare\\n2022-04-16 07:37:02.662671 snare\\n2022-04-16 07:37:03.394129 snare\\n2022-04-16 07:37:04.055934 snare\\n2022-04-16 07:37:04.717800 snare\\n2022-04-16 07:37:05.367751 snare\\n2022-04-16 07:37:06.064286 snare\\n2022-04-16 07:37:06.726109 snare\\n2022-04-16 07:37:07.387903 snare\\n2022-04-16 07:37:08.072766 snare\\n\\n'"
            ],
            "application/vnd.google.colaboratory.intrinsic+json": {
              "type": "string"
            }
          },
          "metadata": {},
          "execution_count": 292
        }
      ]
    },
    {
      "cell_type": "code",
      "source": [
        "import time\n",
        "from datetime import datetime\n",
        "\n",
        "# start = 2022-04-16 07:36:53.271132\n",
        "# end  = 2022-04-16 07:37:08.331309\n",
        "\n",
        "start = datetime(2022,4,16,7,36,53,271132)\n",
        "end = datetime(2022,4,16,7,37,8,331309)\n",
        "diff_time = end - start\n",
        "# diff_time.seconds #15s\n",
        "# diff_time = diff_time.microseconds\n",
        "print(type(diff_time))"
      ],
      "metadata": {
        "colab": {
          "base_uri": "https://localhost:8080/"
        },
        "id": "ZeK-xpSDtfNZ",
        "outputId": "62e9fd30-31d2-45fe-99a3-874d9e645a33"
      },
      "execution_count": null,
      "outputs": [
        {
          "output_type": "stream",
          "name": "stdout",
          "text": [
            "<class 'datetime.timedelta'>\n"
          ]
        }
      ]
    },
    {
      "cell_type": "code",
      "source": [
        "\n",
        "# BPM 160, 15s, should have 40 beats\n",
        "BPM = 160\n",
        "time_duration = 15 #seconds\n",
        "supposed_beats = int(160 / (60/15))\n",
        "\n",
        "unit = (diff_time / supposed_beats)\n",
        "print(unit) #each 1s unit\n",
        "\n",
        "actual_unit = []\n",
        "for i in range(0,supposed_beats):\n",
        "  # print(i)\n",
        "  new = start + i*unit  \n",
        "  actual_unit.append(new)\n",
        "\n",
        "print(actual_unit)"
      ],
      "metadata": {
        "colab": {
          "base_uri": "https://localhost:8080/"
        },
        "id": "TCcn0nu72yzN",
        "outputId": "3388dfc6-f446-4c47-c1c1-51ad20a28345"
      },
      "execution_count": null,
      "outputs": [
        {
          "output_type": "stream",
          "name": "stdout",
          "text": [
            "0:00:00.376504\n",
            "[datetime.datetime(2022, 4, 16, 7, 36, 53, 271132), datetime.datetime(2022, 4, 16, 7, 36, 53, 647636), datetime.datetime(2022, 4, 16, 7, 36, 54, 24140), datetime.datetime(2022, 4, 16, 7, 36, 54, 400644), datetime.datetime(2022, 4, 16, 7, 36, 54, 777148), datetime.datetime(2022, 4, 16, 7, 36, 55, 153652), datetime.datetime(2022, 4, 16, 7, 36, 55, 530156), datetime.datetime(2022, 4, 16, 7, 36, 55, 906660), datetime.datetime(2022, 4, 16, 7, 36, 56, 283164), datetime.datetime(2022, 4, 16, 7, 36, 56, 659668), datetime.datetime(2022, 4, 16, 7, 36, 57, 36172), datetime.datetime(2022, 4, 16, 7, 36, 57, 412676), datetime.datetime(2022, 4, 16, 7, 36, 57, 789180), datetime.datetime(2022, 4, 16, 7, 36, 58, 165684), datetime.datetime(2022, 4, 16, 7, 36, 58, 542188), datetime.datetime(2022, 4, 16, 7, 36, 58, 918692), datetime.datetime(2022, 4, 16, 7, 36, 59, 295196), datetime.datetime(2022, 4, 16, 7, 36, 59, 671700), datetime.datetime(2022, 4, 16, 7, 37, 0, 48204), datetime.datetime(2022, 4, 16, 7, 37, 0, 424708), datetime.datetime(2022, 4, 16, 7, 37, 0, 801212), datetime.datetime(2022, 4, 16, 7, 37, 1, 177716), datetime.datetime(2022, 4, 16, 7, 37, 1, 554220), datetime.datetime(2022, 4, 16, 7, 37, 1, 930724), datetime.datetime(2022, 4, 16, 7, 37, 2, 307228), datetime.datetime(2022, 4, 16, 7, 37, 2, 683732), datetime.datetime(2022, 4, 16, 7, 37, 3, 60236), datetime.datetime(2022, 4, 16, 7, 37, 3, 436740), datetime.datetime(2022, 4, 16, 7, 37, 3, 813244), datetime.datetime(2022, 4, 16, 7, 37, 4, 189748), datetime.datetime(2022, 4, 16, 7, 37, 4, 566252), datetime.datetime(2022, 4, 16, 7, 37, 4, 942756), datetime.datetime(2022, 4, 16, 7, 37, 5, 319260), datetime.datetime(2022, 4, 16, 7, 37, 5, 695764), datetime.datetime(2022, 4, 16, 7, 37, 6, 72268), datetime.datetime(2022, 4, 16, 7, 37, 6, 448772), datetime.datetime(2022, 4, 16, 7, 37, 6, 825276), datetime.datetime(2022, 4, 16, 7, 37, 7, 201780), datetime.datetime(2022, 4, 16, 7, 37, 7, 578284), datetime.datetime(2022, 4, 16, 7, 37, 7, 954788)]\n"
          ]
        }
      ]
    },
    {
      "cell_type": "code",
      "source": [
        "# actual_unit = []\n",
        "# for i in range(0,supposed_beats):\n",
        "#   # print(i)\n",
        "#   new = start + i*unit  \n",
        "#   new = str(new).replace(\" \",\"\")\n",
        "#   actual_unit.append(str(new))\n",
        "# print(actual_unit)"
      ],
      "metadata": {
        "colab": {
          "base_uri": "https://localhost:8080/"
        },
        "id": "7KCYAfMCNLko",
        "outputId": "fd65e399-7082-4394-fbcf-9bad29874767"
      },
      "execution_count": null,
      "outputs": [
        {
          "output_type": "stream",
          "name": "stdout",
          "text": [
            "['2022-04-1607:36:53.271132', '2022-04-1607:36:53.647636', '2022-04-1607:36:54.024140', '2022-04-1607:36:54.400644', '2022-04-1607:36:54.777148', '2022-04-1607:36:55.153652', '2022-04-1607:36:55.530156', '2022-04-1607:36:55.906660', '2022-04-1607:36:56.283164', '2022-04-1607:36:56.659668', '2022-04-1607:36:57.036172', '2022-04-1607:36:57.412676', '2022-04-1607:36:57.789180', '2022-04-1607:36:58.165684', '2022-04-1607:36:58.542188', '2022-04-1607:36:58.918692', '2022-04-1607:36:59.295196', '2022-04-1607:36:59.671700', '2022-04-1607:37:00.048204', '2022-04-1607:37:00.424708', '2022-04-1607:37:00.801212', '2022-04-1607:37:01.177716', '2022-04-1607:37:01.554220', '2022-04-1607:37:01.930724', '2022-04-1607:37:02.307228', '2022-04-1607:37:02.683732', '2022-04-1607:37:03.060236', '2022-04-1607:37:03.436740', '2022-04-1607:37:03.813244', '2022-04-1607:37:04.189748', '2022-04-1607:37:04.566252', '2022-04-1607:37:04.942756', '2022-04-1607:37:05.319260', '2022-04-1607:37:05.695764', '2022-04-1607:37:06.072268', '2022-04-1607:37:06.448772', '2022-04-1607:37:06.825276', '2022-04-1607:37:07.201780', '2022-04-1607:37:07.578284', '2022-04-1607:37:07.954788']\n"
          ]
        }
      ]
    },
    {
      "cell_type": "code",
      "source": [
        ""
      ],
      "metadata": {
        "colab": {
          "base_uri": "https://localhost:8080/"
        },
        "id": "oz1pky4GWkC4",
        "outputId": "7d3e4c17-e9c6-44dc-d9c5-71d050a63dc0"
      },
      "execution_count": null,
      "outputs": [
        {
          "output_type": "stream",
          "name": "stdout",
          "text": [
            "                     datetime\n",
            "0   2022-04-1607:36:53.757935\n",
            "1   2022-04-1607:36:54.419631\n",
            "2   2022-04-1607:36:55.069778\n",
            "3   2022-04-1607:36:55.766419\n",
            "4   2022-04-1607:36:56.428237\n",
            "5   2022-04-1607:36:57.090021\n",
            "6   2022-04-1607:36:57.739950\n",
            "7   2022-04-1607:36:58.796433\n",
            "8   2022-04-1607:36:59.434102\n",
            "9   2022-04-1607:37:00.085191\n",
            "10  2022-04-1607:37:00.723807\n",
            "11  2022-04-1607:37:01.385710\n",
            "12  2022-04-1607:37:02.035619\n",
            "13  2022-04-1607:37:02.662671\n",
            "14  2022-04-1607:37:03.394129\n",
            "15  2022-04-1607:37:04.055934\n",
            "16  2022-04-1607:37:04.717800\n",
            "17  2022-04-1607:37:05.367751\n",
            "18  2022-04-1607:37:06.064286\n",
            "19  2022-04-1607:37:06.726109\n",
            "20  2022-04-1607:37:07.387903\n",
            "21  2022-04-1607:37:08.072766\n"
          ]
        }
      ]
    },
    {
      "cell_type": "code",
      "source": [
        "# import pandas as pd\n",
        "import pandas as pd\n",
        "# Calling DataFrame constructor on list\n",
        "df = pd.DataFrame(actual_unit)\n",
        "df.columns =['actual_time']\n",
        "print(df)\n",
        "\n",
        "  "
      ],
      "metadata": {
        "colab": {
          "base_uri": "https://localhost:8080/"
        },
        "id": "9LsUYmnB0bY4",
        "outputId": "83b68aac-92c4-4547-8b4b-3232c7373616"
      },
      "execution_count": null,
      "outputs": [
        {
          "output_type": "stream",
          "name": "stdout",
          "text": [
            "                  actual_time\n",
            "0   2022-04-1607:36:53.271132\n",
            "1   2022-04-1607:36:53.647636\n",
            "2   2022-04-1607:36:54.024140\n",
            "3   2022-04-1607:36:54.400644\n",
            "4   2022-04-1607:36:54.777148\n",
            "5   2022-04-1607:36:55.153652\n",
            "6   2022-04-1607:36:55.530156\n",
            "7   2022-04-1607:36:55.906660\n",
            "8   2022-04-1607:36:56.283164\n",
            "9   2022-04-1607:36:56.659668\n",
            "10  2022-04-1607:36:57.036172\n",
            "11  2022-04-1607:36:57.412676\n",
            "12  2022-04-1607:36:57.789180\n",
            "13  2022-04-1607:36:58.165684\n",
            "14  2022-04-1607:36:58.542188\n",
            "15  2022-04-1607:36:58.918692\n",
            "16  2022-04-1607:36:59.295196\n",
            "17  2022-04-1607:36:59.671700\n",
            "18  2022-04-1607:37:00.048204\n",
            "19  2022-04-1607:37:00.424708\n",
            "20  2022-04-1607:37:00.801212\n",
            "21  2022-04-1607:37:01.177716\n",
            "22  2022-04-1607:37:01.554220\n",
            "23  2022-04-1607:37:01.930724\n",
            "24  2022-04-1607:37:02.307228\n",
            "25  2022-04-1607:37:02.683732\n",
            "26  2022-04-1607:37:03.060236\n",
            "27  2022-04-1607:37:03.436740\n",
            "28  2022-04-1607:37:03.813244\n",
            "29  2022-04-1607:37:04.189748\n",
            "30  2022-04-1607:37:04.566252\n",
            "31  2022-04-1607:37:04.942756\n",
            "32  2022-04-1607:37:05.319260\n",
            "33  2022-04-1607:37:05.695764\n",
            "34  2022-04-1607:37:06.072268\n",
            "35  2022-04-1607:37:06.448772\n",
            "36  2022-04-1607:37:06.825276\n",
            "37  2022-04-1607:37:07.201780\n",
            "38  2022-04-1607:37:07.578284\n",
            "39  2022-04-1607:37:07.954788\n"
          ]
        }
      ]
    },
    {
      "cell_type": "code",
      "source": [
        "print(df)\n",
        "# df[\"newcolumn\"] = 0\n",
        "# print(df)\n",
        "\n",
        "df.to_csv(\"actual_time.csv\")"
      ],
      "metadata": {
        "colab": {
          "base_uri": "https://localhost:8080/"
        },
        "id": "0gpROWoEvqjX",
        "outputId": "2336100c-0aaf-4960-9beb-a14cb087b2bb"
      },
      "execution_count": null,
      "outputs": [
        {
          "output_type": "stream",
          "name": "stdout",
          "text": [
            "                  actual_time\n",
            "0  2022-04-16 07:36:53.271132\n",
            "1  2022-04-16 07:36:53.647636\n",
            "2  2022-04-16 07:36:54.024140\n",
            "3  2022-04-16 07:36:54.400644\n",
            "4  2022-04-16 07:36:54.777148\n",
            "5  2022-04-16 07:36:55.153652\n",
            "6  2022-04-16 07:36:55.530156\n",
            "7  2022-04-16 07:36:55.906660\n",
            "8  2022-04-16 07:36:56.283164\n",
            "9  2022-04-16 07:36:56.659668\n",
            "10 2022-04-16 07:36:57.036172\n",
            "11 2022-04-16 07:36:57.412676\n",
            "12 2022-04-16 07:36:57.789180\n",
            "13 2022-04-16 07:36:58.165684\n",
            "14 2022-04-16 07:36:58.542188\n",
            "15 2022-04-16 07:36:58.918692\n",
            "16 2022-04-16 07:36:59.295196\n",
            "17 2022-04-16 07:36:59.671700\n",
            "18 2022-04-16 07:37:00.048204\n",
            "19 2022-04-16 07:37:00.424708\n",
            "20 2022-04-16 07:37:00.801212\n",
            "21 2022-04-16 07:37:01.177716\n",
            "22 2022-04-16 07:37:01.554220\n",
            "23 2022-04-16 07:37:01.930724\n",
            "24 2022-04-16 07:37:02.307228\n",
            "25 2022-04-16 07:37:02.683732\n",
            "26 2022-04-16 07:37:03.060236\n",
            "27 2022-04-16 07:37:03.436740\n",
            "28 2022-04-16 07:37:03.813244\n",
            "29 2022-04-16 07:37:04.189748\n",
            "30 2022-04-16 07:37:04.566252\n",
            "31 2022-04-16 07:37:04.942756\n",
            "32 2022-04-16 07:37:05.319260\n",
            "33 2022-04-16 07:37:05.695764\n",
            "34 2022-04-16 07:37:06.072268\n",
            "35 2022-04-16 07:37:06.448772\n",
            "36 2022-04-16 07:37:06.825276\n",
            "37 2022-04-16 07:37:07.201780\n",
            "38 2022-04-16 07:37:07.578284\n",
            "39 2022-04-16 07:37:07.954788\n"
          ]
        }
      ]
    },
    {
      "cell_type": "code",
      "source": [
        "print(here)\n",
        "print(df)"
      ],
      "metadata": {
        "colab": {
          "base_uri": "https://localhost:8080/"
        },
        "id": "Lp7ue8H37DH6",
        "outputId": "14d3d264-5dbb-4cd2-a187-89858825e302"
      },
      "execution_count": null,
      "outputs": [
        {
          "output_type": "stream",
          "name": "stdout",
          "text": [
            "                     datetime\n",
            "0   2022-04-1607:36:53.757935\n",
            "1   2022-04-1607:36:54.419631\n",
            "2   2022-04-1607:36:55.069778\n",
            "3   2022-04-1607:36:55.766419\n",
            "4   2022-04-1607:36:56.428237\n",
            "5   2022-04-1607:36:57.090021\n",
            "6   2022-04-1607:36:57.739950\n",
            "7   2022-04-1607:36:58.796433\n",
            "8   2022-04-1607:36:59.434102\n",
            "9   2022-04-1607:37:00.085191\n",
            "10  2022-04-1607:37:00.723807\n",
            "11  2022-04-1607:37:01.385710\n",
            "12  2022-04-1607:37:02.035619\n",
            "13  2022-04-1607:37:02.662671\n",
            "14  2022-04-1607:37:03.394129\n",
            "15  2022-04-1607:37:04.055934\n",
            "16  2022-04-1607:37:04.717800\n",
            "17  2022-04-1607:37:05.367751\n",
            "18  2022-04-1607:37:06.064286\n",
            "19  2022-04-1607:37:06.726109\n",
            "20  2022-04-1607:37:07.387903\n",
            "21  2022-04-1607:37:08.072766\n",
            "                  actual_time\n",
            "0  2022-04-16 07:36:53.271132\n",
            "1  2022-04-16 07:36:53.647636\n",
            "2  2022-04-16 07:36:54.024140\n",
            "3  2022-04-16 07:36:54.400644\n",
            "4  2022-04-16 07:36:54.777148\n",
            "5  2022-04-16 07:36:55.153652\n",
            "6  2022-04-16 07:36:55.530156\n",
            "7  2022-04-16 07:36:55.906660\n",
            "8  2022-04-16 07:36:56.283164\n",
            "9  2022-04-16 07:36:56.659668\n",
            "10 2022-04-16 07:36:57.036172\n",
            "11 2022-04-16 07:36:57.412676\n",
            "12 2022-04-16 07:36:57.789180\n",
            "13 2022-04-16 07:36:58.165684\n",
            "14 2022-04-16 07:36:58.542188\n",
            "15 2022-04-16 07:36:58.918692\n",
            "16 2022-04-16 07:36:59.295196\n",
            "17 2022-04-16 07:36:59.671700\n",
            "18 2022-04-16 07:37:00.048204\n",
            "19 2022-04-16 07:37:00.424708\n",
            "20 2022-04-16 07:37:00.801212\n",
            "21 2022-04-16 07:37:01.177716\n",
            "22 2022-04-16 07:37:01.554220\n",
            "23 2022-04-16 07:37:01.930724\n",
            "24 2022-04-16 07:37:02.307228\n",
            "25 2022-04-16 07:37:02.683732\n",
            "26 2022-04-16 07:37:03.060236\n",
            "27 2022-04-16 07:37:03.436740\n",
            "28 2022-04-16 07:37:03.813244\n",
            "29 2022-04-16 07:37:04.189748\n",
            "30 2022-04-16 07:37:04.566252\n",
            "31 2022-04-16 07:37:04.942756\n",
            "32 2022-04-16 07:37:05.319260\n",
            "33 2022-04-16 07:37:05.695764\n",
            "34 2022-04-16 07:37:06.072268\n",
            "35 2022-04-16 07:37:06.448772\n",
            "36 2022-04-16 07:37:06.825276\n",
            "37 2022-04-16 07:37:07.201780\n",
            "38 2022-04-16 07:37:07.578284\n",
            "39 2022-04-16 07:37:07.954788\n"
          ]
        }
      ]
    },
    {
      "cell_type": "code",
      "source": [
        "extracted_col = here[\"datetime\"]\n",
        "df = df.join(extracted_col)\n",
        "print(df)\n"
      ],
      "metadata": {
        "colab": {
          "base_uri": "https://localhost:8080/"
        },
        "id": "20Zpj8nk7Uy2",
        "outputId": "13f707f4-b2b7-437b-be60-aad05252cbfd"
      },
      "execution_count": null,
      "outputs": [
        {
          "output_type": "stream",
          "name": "stdout",
          "text": [
            "                  actual_time                   datetime\n",
            "0  2022-04-16 07:36:53.271132  2022-04-1607:36:53.757935\n",
            "1  2022-04-16 07:36:53.647636  2022-04-1607:36:54.419631\n",
            "2  2022-04-16 07:36:54.024140  2022-04-1607:36:55.069778\n",
            "3  2022-04-16 07:36:54.400644  2022-04-1607:36:55.766419\n",
            "4  2022-04-16 07:36:54.777148  2022-04-1607:36:56.428237\n",
            "5  2022-04-16 07:36:55.153652  2022-04-1607:36:57.090021\n",
            "6  2022-04-16 07:36:55.530156  2022-04-1607:36:57.739950\n",
            "7  2022-04-16 07:36:55.906660  2022-04-1607:36:58.796433\n",
            "8  2022-04-16 07:36:56.283164  2022-04-1607:36:59.434102\n",
            "9  2022-04-16 07:36:56.659668  2022-04-1607:37:00.085191\n",
            "10 2022-04-16 07:36:57.036172  2022-04-1607:37:00.723807\n",
            "11 2022-04-16 07:36:57.412676  2022-04-1607:37:01.385710\n",
            "12 2022-04-16 07:36:57.789180  2022-04-1607:37:02.035619\n",
            "13 2022-04-16 07:36:58.165684  2022-04-1607:37:02.662671\n",
            "14 2022-04-16 07:36:58.542188  2022-04-1607:37:03.394129\n",
            "15 2022-04-16 07:36:58.918692  2022-04-1607:37:04.055934\n",
            "16 2022-04-16 07:36:59.295196  2022-04-1607:37:04.717800\n",
            "17 2022-04-16 07:36:59.671700  2022-04-1607:37:05.367751\n",
            "18 2022-04-16 07:37:00.048204  2022-04-1607:37:06.064286\n",
            "19 2022-04-16 07:37:00.424708  2022-04-1607:37:06.726109\n",
            "20 2022-04-16 07:37:00.801212  2022-04-1607:37:07.387903\n",
            "21 2022-04-16 07:37:01.177716  2022-04-1607:37:08.072766\n",
            "22 2022-04-16 07:37:01.554220                        NaN\n",
            "23 2022-04-16 07:37:01.930724                        NaN\n",
            "24 2022-04-16 07:37:02.307228                        NaN\n",
            "25 2022-04-16 07:37:02.683732                        NaN\n",
            "26 2022-04-16 07:37:03.060236                        NaN\n",
            "27 2022-04-16 07:37:03.436740                        NaN\n",
            "28 2022-04-16 07:37:03.813244                        NaN\n",
            "29 2022-04-16 07:37:04.189748                        NaN\n",
            "30 2022-04-16 07:37:04.566252                        NaN\n",
            "31 2022-04-16 07:37:04.942756                        NaN\n",
            "32 2022-04-16 07:37:05.319260                        NaN\n",
            "33 2022-04-16 07:37:05.695764                        NaN\n",
            "34 2022-04-16 07:37:06.072268                        NaN\n",
            "35 2022-04-16 07:37:06.448772                        NaN\n",
            "36 2022-04-16 07:37:06.825276                        NaN\n",
            "37 2022-04-16 07:37:07.201780                        NaN\n",
            "38 2022-04-16 07:37:07.578284                        NaN\n",
            "39 2022-04-16 07:37:07.954788                        NaN\n"
          ]
        }
      ]
    },
    {
      "cell_type": "code",
      "source": [
        "df['datetime'] = df['datetime'].fillna(\"2022-04-1607:36:53.757935\")\n",
        "# df['datetime'] = df['datetime'].fillna(datetime(2022,4,16,7,36,53,271132))\n",
        "print(df)\n",
        "df.to_csv(\"excel.csv\")"
      ],
      "metadata": {
        "colab": {
          "base_uri": "https://localhost:8080/"
        },
        "id": "a70MQzE1_01v",
        "outputId": "e7623e92-0c03-4445-b18e-054c54f1b5e3"
      },
      "execution_count": null,
      "outputs": [
        {
          "output_type": "stream",
          "name": "stdout",
          "text": [
            "                  actual_time                   datetime\n",
            "0  2022-04-16 07:36:53.271132  2022-04-1607:36:53.757935\n",
            "1  2022-04-16 07:36:53.647636  2022-04-1607:36:54.419631\n",
            "2  2022-04-16 07:36:54.024140  2022-04-1607:36:55.069778\n",
            "3  2022-04-16 07:36:54.400644  2022-04-1607:36:55.766419\n",
            "4  2022-04-16 07:36:54.777148  2022-04-1607:36:56.428237\n",
            "5  2022-04-16 07:36:55.153652  2022-04-1607:36:57.090021\n",
            "6  2022-04-16 07:36:55.530156  2022-04-1607:36:57.739950\n",
            "7  2022-04-16 07:36:55.906660  2022-04-1607:36:58.796433\n",
            "8  2022-04-16 07:36:56.283164  2022-04-1607:36:59.434102\n",
            "9  2022-04-16 07:36:56.659668  2022-04-1607:37:00.085191\n",
            "10 2022-04-16 07:36:57.036172  2022-04-1607:37:00.723807\n",
            "11 2022-04-16 07:36:57.412676  2022-04-1607:37:01.385710\n",
            "12 2022-04-16 07:36:57.789180  2022-04-1607:37:02.035619\n",
            "13 2022-04-16 07:36:58.165684  2022-04-1607:37:02.662671\n",
            "14 2022-04-16 07:36:58.542188  2022-04-1607:37:03.394129\n",
            "15 2022-04-16 07:36:58.918692  2022-04-1607:37:04.055934\n",
            "16 2022-04-16 07:36:59.295196  2022-04-1607:37:04.717800\n",
            "17 2022-04-16 07:36:59.671700  2022-04-1607:37:05.367751\n",
            "18 2022-04-16 07:37:00.048204  2022-04-1607:37:06.064286\n",
            "19 2022-04-16 07:37:00.424708  2022-04-1607:37:06.726109\n",
            "20 2022-04-16 07:37:00.801212  2022-04-1607:37:07.387903\n",
            "21 2022-04-16 07:37:01.177716  2022-04-1607:37:08.072766\n",
            "22 2022-04-16 07:37:01.554220  2022-04-1607:36:53.757935\n",
            "23 2022-04-16 07:37:01.930724  2022-04-1607:36:53.757935\n",
            "24 2022-04-16 07:37:02.307228  2022-04-1607:36:53.757935\n",
            "25 2022-04-16 07:37:02.683732  2022-04-1607:36:53.757935\n",
            "26 2022-04-16 07:37:03.060236  2022-04-1607:36:53.757935\n",
            "27 2022-04-16 07:37:03.436740  2022-04-1607:36:53.757935\n",
            "28 2022-04-16 07:37:03.813244  2022-04-1607:36:53.757935\n",
            "29 2022-04-16 07:37:04.189748  2022-04-1607:36:53.757935\n",
            "30 2022-04-16 07:37:04.566252  2022-04-1607:36:53.757935\n",
            "31 2022-04-16 07:37:04.942756  2022-04-1607:36:53.757935\n",
            "32 2022-04-16 07:37:05.319260  2022-04-1607:36:53.757935\n",
            "33 2022-04-16 07:37:05.695764  2022-04-1607:36:53.757935\n",
            "34 2022-04-16 07:37:06.072268  2022-04-1607:36:53.757935\n",
            "35 2022-04-16 07:37:06.448772  2022-04-1607:36:53.757935\n",
            "36 2022-04-16 07:37:06.825276  2022-04-1607:36:53.757935\n",
            "37 2022-04-16 07:37:07.201780  2022-04-1607:36:53.757935\n",
            "38 2022-04-16 07:37:07.578284  2022-04-1607:36:53.757935\n",
            "39 2022-04-16 07:37:07.954788  2022-04-1607:36:53.757935\n"
          ]
        }
      ]
    },
    {
      "cell_type": "code",
      "source": [
        "df[\"newcolumn\"] = 0\n",
        "print(df)\n",
        "df[\"newcolumn_1\"] = 1\n",
        "print(df)"
      ],
      "metadata": {
        "colab": {
          "base_uri": "https://localhost:8080/"
        },
        "id": "CsU-1ZhZ-XC_",
        "outputId": "a709f8ab-49b1-4e5b-f5fe-a5c5f0964587"
      },
      "execution_count": null,
      "outputs": [
        {
          "output_type": "stream",
          "name": "stdout",
          "text": [
            "                  actual_time                   datetime  newcolumn\n",
            "0  2022-04-16 07:36:53.271132  2022-04-1607:36:53.757935          0\n",
            "1  2022-04-16 07:36:53.647636  2022-04-1607:36:54.419631          0\n",
            "2  2022-04-16 07:36:54.024140  2022-04-1607:36:55.069778          0\n",
            "3  2022-04-16 07:36:54.400644  2022-04-1607:36:55.766419          0\n",
            "4  2022-04-16 07:36:54.777148  2022-04-1607:36:56.428237          0\n",
            "5  2022-04-16 07:36:55.153652  2022-04-1607:36:57.090021          0\n",
            "6  2022-04-16 07:36:55.530156  2022-04-1607:36:57.739950          0\n",
            "7  2022-04-16 07:36:55.906660  2022-04-1607:36:58.796433          0\n",
            "8  2022-04-16 07:36:56.283164  2022-04-1607:36:59.434102          0\n",
            "9  2022-04-16 07:36:56.659668  2022-04-1607:37:00.085191          0\n",
            "10 2022-04-16 07:36:57.036172  2022-04-1607:37:00.723807          0\n",
            "11 2022-04-16 07:36:57.412676  2022-04-1607:37:01.385710          0\n",
            "12 2022-04-16 07:36:57.789180  2022-04-1607:37:02.035619          0\n",
            "13 2022-04-16 07:36:58.165684  2022-04-1607:37:02.662671          0\n",
            "14 2022-04-16 07:36:58.542188  2022-04-1607:37:03.394129          0\n",
            "15 2022-04-16 07:36:58.918692  2022-04-1607:37:04.055934          0\n",
            "16 2022-04-16 07:36:59.295196  2022-04-1607:37:04.717800          0\n",
            "17 2022-04-16 07:36:59.671700  2022-04-1607:37:05.367751          0\n",
            "18 2022-04-16 07:37:00.048204  2022-04-1607:37:06.064286          0\n",
            "19 2022-04-16 07:37:00.424708  2022-04-1607:37:06.726109          0\n",
            "20 2022-04-16 07:37:00.801212  2022-04-1607:37:07.387903          0\n",
            "21 2022-04-16 07:37:01.177716  2022-04-1607:37:08.072766          0\n",
            "22 2022-04-16 07:37:01.554220  2022-04-1607:36:53.757935          0\n",
            "23 2022-04-16 07:37:01.930724  2022-04-1607:36:53.757935          0\n",
            "24 2022-04-16 07:37:02.307228  2022-04-1607:36:53.757935          0\n",
            "25 2022-04-16 07:37:02.683732  2022-04-1607:36:53.757935          0\n",
            "26 2022-04-16 07:37:03.060236  2022-04-1607:36:53.757935          0\n",
            "27 2022-04-16 07:37:03.436740  2022-04-1607:36:53.757935          0\n",
            "28 2022-04-16 07:37:03.813244  2022-04-1607:36:53.757935          0\n",
            "29 2022-04-16 07:37:04.189748  2022-04-1607:36:53.757935          0\n",
            "30 2022-04-16 07:37:04.566252  2022-04-1607:36:53.757935          0\n",
            "31 2022-04-16 07:37:04.942756  2022-04-1607:36:53.757935          0\n",
            "32 2022-04-16 07:37:05.319260  2022-04-1607:36:53.757935          0\n",
            "33 2022-04-16 07:37:05.695764  2022-04-1607:36:53.757935          0\n",
            "34 2022-04-16 07:37:06.072268  2022-04-1607:36:53.757935          0\n",
            "35 2022-04-16 07:37:06.448772  2022-04-1607:36:53.757935          0\n",
            "36 2022-04-16 07:37:06.825276  2022-04-1607:36:53.757935          0\n",
            "37 2022-04-16 07:37:07.201780  2022-04-1607:36:53.757935          0\n",
            "38 2022-04-16 07:37:07.578284  2022-04-1607:36:53.757935          0\n",
            "39 2022-04-16 07:37:07.954788  2022-04-1607:36:53.757935          0\n",
            "                  actual_time                   datetime  newcolumn  \\\n",
            "0  2022-04-16 07:36:53.271132  2022-04-1607:36:53.757935          0   \n",
            "1  2022-04-16 07:36:53.647636  2022-04-1607:36:54.419631          0   \n",
            "2  2022-04-16 07:36:54.024140  2022-04-1607:36:55.069778          0   \n",
            "3  2022-04-16 07:36:54.400644  2022-04-1607:36:55.766419          0   \n",
            "4  2022-04-16 07:36:54.777148  2022-04-1607:36:56.428237          0   \n",
            "5  2022-04-16 07:36:55.153652  2022-04-1607:36:57.090021          0   \n",
            "6  2022-04-16 07:36:55.530156  2022-04-1607:36:57.739950          0   \n",
            "7  2022-04-16 07:36:55.906660  2022-04-1607:36:58.796433          0   \n",
            "8  2022-04-16 07:36:56.283164  2022-04-1607:36:59.434102          0   \n",
            "9  2022-04-16 07:36:56.659668  2022-04-1607:37:00.085191          0   \n",
            "10 2022-04-16 07:36:57.036172  2022-04-1607:37:00.723807          0   \n",
            "11 2022-04-16 07:36:57.412676  2022-04-1607:37:01.385710          0   \n",
            "12 2022-04-16 07:36:57.789180  2022-04-1607:37:02.035619          0   \n",
            "13 2022-04-16 07:36:58.165684  2022-04-1607:37:02.662671          0   \n",
            "14 2022-04-16 07:36:58.542188  2022-04-1607:37:03.394129          0   \n",
            "15 2022-04-16 07:36:58.918692  2022-04-1607:37:04.055934          0   \n",
            "16 2022-04-16 07:36:59.295196  2022-04-1607:37:04.717800          0   \n",
            "17 2022-04-16 07:36:59.671700  2022-04-1607:37:05.367751          0   \n",
            "18 2022-04-16 07:37:00.048204  2022-04-1607:37:06.064286          0   \n",
            "19 2022-04-16 07:37:00.424708  2022-04-1607:37:06.726109          0   \n",
            "20 2022-04-16 07:37:00.801212  2022-04-1607:37:07.387903          0   \n",
            "21 2022-04-16 07:37:01.177716  2022-04-1607:37:08.072766          0   \n",
            "22 2022-04-16 07:37:01.554220  2022-04-1607:36:53.757935          0   \n",
            "23 2022-04-16 07:37:01.930724  2022-04-1607:36:53.757935          0   \n",
            "24 2022-04-16 07:37:02.307228  2022-04-1607:36:53.757935          0   \n",
            "25 2022-04-16 07:37:02.683732  2022-04-1607:36:53.757935          0   \n",
            "26 2022-04-16 07:37:03.060236  2022-04-1607:36:53.757935          0   \n",
            "27 2022-04-16 07:37:03.436740  2022-04-1607:36:53.757935          0   \n",
            "28 2022-04-16 07:37:03.813244  2022-04-1607:36:53.757935          0   \n",
            "29 2022-04-16 07:37:04.189748  2022-04-1607:36:53.757935          0   \n",
            "30 2022-04-16 07:37:04.566252  2022-04-1607:36:53.757935          0   \n",
            "31 2022-04-16 07:37:04.942756  2022-04-1607:36:53.757935          0   \n",
            "32 2022-04-16 07:37:05.319260  2022-04-1607:36:53.757935          0   \n",
            "33 2022-04-16 07:37:05.695764  2022-04-1607:36:53.757935          0   \n",
            "34 2022-04-16 07:37:06.072268  2022-04-1607:36:53.757935          0   \n",
            "35 2022-04-16 07:37:06.448772  2022-04-1607:36:53.757935          0   \n",
            "36 2022-04-16 07:37:06.825276  2022-04-1607:36:53.757935          0   \n",
            "37 2022-04-16 07:37:07.201780  2022-04-1607:36:53.757935          0   \n",
            "38 2022-04-16 07:37:07.578284  2022-04-1607:36:53.757935          0   \n",
            "39 2022-04-16 07:37:07.954788  2022-04-1607:36:53.757935          0   \n",
            "\n",
            "    newcolumn_1  \n",
            "0             1  \n",
            "1             1  \n",
            "2             1  \n",
            "3             1  \n",
            "4             1  \n",
            "5             1  \n",
            "6             1  \n",
            "7             1  \n",
            "8             1  \n",
            "9             1  \n",
            "10            1  \n",
            "11            1  \n",
            "12            1  \n",
            "13            1  \n",
            "14            1  \n",
            "15            1  \n",
            "16            1  \n",
            "17            1  \n",
            "18            1  \n",
            "19            1  \n",
            "20            1  \n",
            "21            1  \n",
            "22            1  \n",
            "23            1  \n",
            "24            1  \n",
            "25            1  \n",
            "26            1  \n",
            "27            1  \n",
            "28            1  \n",
            "29            1  \n",
            "30            1  \n",
            "31            1  \n",
            "32            1  \n",
            "33            1  \n",
            "34            1  \n",
            "35            1  \n",
            "36            1  \n",
            "37            1  \n",
            "38            1  \n",
            "39            1  \n"
          ]
        }
      ]
    },
    {
      "cell_type": "code",
      "source": [
        "import pandas as pd\n",
        "from datetime import datetime, timedelta\n",
        "from matplotlib import pyplot as plt\n",
        "from matplotlib import dates as mpl_dates\n",
        "\n",
        "plt.style.use('seaborn')\n",
        "\n",
        "# data = pd.read_csv('data.csv')\n",
        "\n",
        "price_date = df['actual_time']\n",
        "price_close = df['newcolumn']\n",
        "# data['Date'] = pd.to_datetime(data['Date'])\n",
        "# data.sort_values('Date', inplace=True)\n",
        "\n",
        "# price_date = data['Date']\n",
        "# price_close = data['Close']\n",
        "\n",
        "# plt.plot_date(price_date, price_close, linestyle='solid')\n",
        "\n",
        "plt.plot_date(price_date, price_close, linestyle='solid')\n",
        "plt.gcf().autofmt_xdate()\n",
        "\n",
        "plt.title('on beat or not')\n",
        "plt.xlabel('timestamps')\n",
        "plt.ylabel('actual vs modelTest')\n",
        "\n",
        "plt.tight_layout()\n",
        "\n",
        "plt.show()"
      ],
      "metadata": {
        "colab": {
          "base_uri": "https://localhost:8080/",
          "height": 405
        },
        "id": "z0FasAX2vqrT",
        "outputId": "2b267d83-3708-41f3-f3b4-b9e24fb75501"
      },
      "execution_count": null,
      "outputs": [
        {
          "output_type": "display_data",
          "data": {
            "text/plain": [
              "<Figure size 576x396 with 1 Axes>"
            ],
            "image/png": "[encoded data removed]"
          },
          "metadata": {}
        }
      ]
    },
    {
      "cell_type": "code",
      "source": [
        "import pandas as pd\n",
        "from datetime import datetime, timedelta\n",
        "from matplotlib import pyplot as plt\n",
        "from matplotlib import dates as mpl_dates\n",
        "\n",
        "plt.style.use('seaborn')\n",
        "\n",
        "# data = pd.read_csv('data.csv')\n",
        "\n",
        "price_date = df['datetime']\n",
        "price_close = df['newcolumn_1']\n",
        "# data['Date'] = pd.to_datetime(data['Date'])\n",
        "# data.sort_values('Date', inplace=True)\n",
        "\n",
        "# price_date = data['Date']\n",
        "# price_close = data['Close']\n",
        "\n",
        "# plt.plot_date(price_date, price_close, linestyle='solid')\n",
        "\n",
        "plt.plot_date(price_date, price_close, linestyle='solid')\n",
        "plt.gcf().autofmt_xdate()\n",
        "\n",
        "plt.title('on beat or not')\n",
        "plt.xlabel('timestamps')\n",
        "plt.ylabel('actual vs modelTest')\n",
        "\n",
        "plt.tight_layout()\n",
        "\n",
        "plt.show()"
      ],
      "metadata": {
        "colab": {
          "base_uri": "https://localhost:8080/",
          "height": 405
        },
        "id": "ld28RGQl-ary",
        "outputId": "3734af3f-d73a-4042-93fc-4328ef6dd386"
      },
      "execution_count": null,
      "outputs": [
        {
          "output_type": "display_data",
          "data": {
            "text/plain": [
              "<Figure size 576x396 with 1 Axes>"
            ],
            "image/png": "[encoded data removed]"
          },
          "metadata": {}
        }
      ]
    },
    {
      "cell_type": "code",
      "source": [
        "import pandas as pd\n",
        "from datetime import datetime, timedelta\n",
        "from matplotlib import pyplot as plt\n",
        "from matplotlib import dates as mpl_dates\n",
        "\n",
        "plt.style.use('seaborn')\n",
        "\n",
        "# data = pd.read_csv('data.csv')\n",
        "\n",
        "x1 = df['datetime']\n",
        "y1 = df['newcolumn']\n",
        "x2 = df['actual_time']\n",
        "y2 = df['newcolumn_1']\n",
        "\n",
        "plt.plot_date(x1, y1, label = \"line 1\")\n",
        "plt.plot_date(x2, y2, label = \"line 2\")\n",
        "plt.gcf().autofmt_xdate()\n",
        "\n",
        "plt.title('on beat or not')\n",
        "plt.xlabel('timestamps')\n",
        "plt.ylabel('actual vs modelTest')\n",
        "\n",
        "plt.tight_layout()\n",
        "\n",
        "plt.show()"
      ],
      "metadata": {
        "id": "Ldfh6c21-oDi"
      },
      "execution_count": null,
      "outputs": []
    },
    {
      "cell_type": "code",
      "source": [
        "# TODO NEXT\n",
        "# align timestamps\n",
        "# -extract micro seconds \n",
        "# -put into another column \n",
        "\n",
        "# find difference between time stamps\n",
        "# -take difference of microseconds \n",
        "\n",
        "# set threshold\n",
        "\n",
        "# group/ label points false negative or positive\n"
      ],
      "metadata": {
        "id": "k5dqFK-u-rR_"
      },
      "execution_count": null,
      "outputs": []
    },
    {
      "cell_type": "code",
      "source": [
        ""
      ],
      "metadata": {
        "id": "XICCgVvO_D5y"
      },
      "execution_count": null,
      "outputs": []
    },
    {
      "cell_type": "markdown",
      "source": [
        "testing out plotting time graph"
      ],
      "metadata": {
        "id": "pvrd3Hm2XumB"
      }
    },
    {
      "cell_type": "code",
      "source": [
        "a = '''\n",
        "2022-04-16 07:36:53.757935 snare\n",
        "2022-04-16 07:36:54.419631 snare\n",
        "2022-04-16 07:36:55.069778 snare\n",
        "2022-04-16 07:36:55.766419 snare\n",
        "2022-04-16 07:36:56.428237 snare\n",
        "2022-04-16 07:36:57.090021 snare\n",
        "2022-04-16 07:36:57.739950 snare\n",
        "2022-04-16 07:36:58.796433 snare\n",
        "2022-04-16 07:36:59.434102 snare\n",
        "2022-04-16 07:37:00.085191 snare\n",
        "2022-04-16 07:37:00.723807 snare\n",
        "2022-04-16 07:37:01.385710 snare\n",
        "2022-04-16 07:37:02.035619 snare\n",
        "2022-04-16 07:37:02.662671 snare\n",
        "2022-04-16 07:37:03.394129 snare\n",
        "2022-04-16 07:37:04.055934 snare\n",
        "2022-04-16 07:37:04.717800 snare\n",
        "2022-04-16 07:37:05.367751 snare\n",
        "2022-04-16 07:37:06.064286 snare\n",
        "2022-04-16 07:37:06.726109 snare\n",
        "2022-04-16 07:37:07.387903 snare\n",
        "2022-04-16 07:37:08.072766 snare\n",
        "'''"
      ],
      "metadata": {
        "id": "6lSh26nZ4dtC"
      },
      "execution_count": null,
      "outputs": []
    },
    {
      "cell_type": "code",
      "source": [
        "#input should be received as csv\n",
        "# string manipulations for now\n",
        "\n",
        "# print(type(a))\n",
        "\n",
        "a = a.replace(\" \",\",\")\n",
        "print(a)"
      ],
      "metadata": {
        "id": "-vAsxmiN4hVJ"
      },
      "execution_count": null,
      "outputs": []
    },
    {
      "cell_type": "code",
      "source": [
        "import pandas as pd\n",
        "from datetime import datetime, timedelta\n",
        "from matplotlib import pyplot as plt\n",
        "from matplotlib import dates as mpl_dates\n",
        "\n",
        "plt.style.use('seaborn')\n",
        "\n",
        "\n",
        "# data = pd.read_csv('data.csv')\n",
        "# price_date = data['Date']\n",
        "# price_close = data['Close']\n",
        "\n",
        "dates = [\n",
        "    datetime(2019, 5, 24),\n",
        "    datetime(2019, 5, 25),\n",
        "    datetime(2019, 5, 26),\n",
        "    datetime(2019, 5, 27),\n",
        "    datetime(2019, 5, 28),\n",
        "    datetime(2019, 5, 29),\n",
        "    datetime(2019, 5, 30)\n",
        "]\n",
        "y = [0, 1, 3, 4, 6, 5, 7]\n",
        "price_date = dates\n",
        "price_close = y\n",
        "\n",
        "\n",
        "plt.plot_date(price_date, price_close, linestyle='solid')\n",
        "plt.title('Bitcoin Prices')\n",
        "plt.xlabel('Date')\n",
        "plt.ylabel('Closing Price')\n",
        "plt.tight_layout()\n",
        "plt.show()"
      ],
      "metadata": {
        "id": "_TWCpdnsvuoO"
      },
      "execution_count": null,
      "outputs": []
    },
    {
      "cell_type": "code",
      "source": [
        ""
      ],
      "metadata": {
        "id": "fHxtfVNfv5uY"
      },
      "execution_count": null,
      "outputs": []
    },
    {
      "cell_type": "markdown",
      "source": [
        "### new measurement"
      ],
      "metadata": {
        "id": "gY3dPSvwUg4o"
      }
    },
    {
      "cell_type": "markdown",
      "source": [
        "TODO\n",
        "create 6 different functions\n",
        "\n",
        "(1)\n",
        "create dictionary of time stamps\n",
        "for actual & expected\n",
        "expected = {53:(t1,t2,t3), 54:(t1,t2)}\n",
        "actual = {53:(t1,t3)}\n",
        "\n",
        "(2)\n",
        "create range for expected thresholds\n",
        "threshold value set to 0.2\n",
        "\n",
        "(3)\n",
        "create range for true negative TN \n",
        "\n",
        "(4)\n",
        "create counter for and kind of range\n",
        "\n",
        "(5,6)\n",
        "create for each range \n",
        "type1\n",
        "type2"
      ],
      "metadata": {
        "id": "tlaCfSXTUnqo"
      }
    },
    {
      "cell_type": "code",
      "source": [
        "\"\"\"\n",
        "TODO (1)\n",
        "create dictionary of time stamps\n",
        "for actual & expected\n",
        "expected = {53:(t1,t2,t3), 54:(t1,t2)}\n",
        "actual = {53:(t1,t3)}\n",
        "\n",
        "\n",
        "input:\n",
        "output:\n",
        "\n",
        "\"\"\""
      ],
      "metadata": {
        "id": "owYa0jwYUjRU"
      },
      "execution_count": null,
      "outputs": []
    },
    {
      "cell_type": "code",
      "source": [
        "\"\"\"\n",
        "TODO (2) \n",
        " create range for expected thresholds\n",
        "threshold value set to 0.2\n",
        "\n",
        "input:\n",
        "output:\n",
        "\n",
        "\"\"\""
      ],
      "metadata": {
        "id": "QNF9OfjyVjLK"
      },
      "execution_count": null,
      "outputs": []
    },
    {
      "cell_type": "code",
      "source": [
        "\"\"\"\n",
        "TODO (3)\n",
        "create range for true negative TN \n",
        "\n",
        "input:\n",
        "output:\n",
        "\"\"\""
      ],
      "metadata": {
        "id": "c57oE_QYVyuo"
      },
      "execution_count": null,
      "outputs": []
    },
    {
      "cell_type": "code",
      "source": [
        "\n",
        "\"\"\"\n",
        "TODO (4)\n",
        "create counter for and kind of range\n",
        "\n",
        "input:\n",
        "output:\n",
        "\"\"\""
      ],
      "metadata": {
        "id": "I5g11m0OVyws"
      },
      "execution_count": null,
      "outputs": []
    },
    {
      "cell_type": "code",
      "source": [
        "\"\"\"\n",
        "(5,6)\n",
        "create for each range \n",
        "type1\n",
        "type2\n",
        "\n",
        "input:\n",
        "output:\n",
        "\"\"\""
      ],
      "metadata": {
        "id": "yleG88-9WFNl"
      },
      "execution_count": null,
      "outputs": []
    }
  ]
}